{
 "cells": [
  {
   "cell_type": "markdown",
   "metadata": {},
   "source": [
    "# Disclamer\n",
    "This is not working at the moment, probably since the input is too high dimensional."
   ]
  },
  {
   "cell_type": "code",
   "execution_count": null,
   "metadata": {},
   "outputs": [],
   "source": [
    "import numpy as np\n",
    "import torch\n",
    "import os\n",
    "\n",
    "import matplotlib.pyplot as plt\n",
    "\n",
    "from sklearn.manifold import TSNE"
   ]
  },
  {
   "cell_type": "code",
   "execution_count": null,
   "metadata": {},
   "outputs": [],
   "source": [
    "# Input folders of the pth files of the two runs to be compared\n",
    "a_path = './siren/experiment_scripts/logs/24-06-16_2'\n",
    "b_path = './siren/experiment_scripts/logs/24-06-16_3'\n",
    "a = os.listdir(a_path)\n",
    "b = os.listdir(b_path)"
   ]
  },
  {
   "cell_type": "code",
   "execution_count": null,
   "metadata": {},
   "outputs": [],
   "source": [
    "a_files = []\n",
    "for f in a:\n",
    "    temp = []\n",
    "    \n",
    "    # all layers:\n",
    "    # for key, value in torch.load(os.path.join(a_path, f)).items():\n",
    "    #     temp.append(value.flatten())\n",
    "\n",
    "    # single layer:\n",
    "    temp.append(torch.load(os.path.join(a_path, f))['layers.0.weight'].flatten())\n",
    "    \n",
    "    a_flattened = torch.cat(temp, dim=0)\n",
    "    a_files.append(a_flattened.cpu().numpy())\n",
    "    \n",
    "\n",
    "b_files = []\n",
    "for f in b:\n",
    "    temp = []\n",
    "    # for key, value in torch.load(os.path.join(b_path, f)).items():\n",
    "    #     temp.append(value.flatten())\n",
    "    temp.append(torch.load(os.path.join(b_path, f))['layers.0.weight'].flatten())\n",
    "    b_flattened = torch.cat(temp, dim=0)\n",
    "    b_files.append(b_flattened.cpu().numpy())"
   ]
  },
  {
   "cell_type": "code",
   "execution_count": null,
   "metadata": {},
   "outputs": [],
   "source": [
    "a_emb = TSNE(n_components=2).fit_transform(a_files)\n",
    "b_emb = TSNE(n_components=2).fit_transform(b_files)\n",
    "both_emb = TSNE(n_components=2).fit_transform(a_files + b_files)"
   ]
  },
  {
   "cell_type": "code",
   "execution_count": null,
   "metadata": {},
   "outputs": [],
   "source": [
    "fig1 = plt.figure()\n",
    "ax1 = fig1.add_subplot(111)\n",
    "\n",
    "ax1.scatter(a_emb[:, 0], a_emb[:, 1], c='r', label='a')\n",
    "ax1.scatter(b_emb[:, 0], b_emb[:, 1], c='b', label='b')\n",
    "\n",
    "ax1.legend()\n",
    "plt.show()"
   ]
  },
  {
   "cell_type": "code",
   "execution_count": null,
   "metadata": {},
   "outputs": [],
   "source": [
    "fig2 = plt.figure()\n",
    "ax2 = fig2.add_subplot(111)\n",
    "\n",
    "num = both_emb.shape[0] // 2  # Assuming both_emb contains both 'a' and 'b' points concatenated\n",
    "\n",
    "ax2.scatter(both_emb[:num, 0], both_emb[:num, 1], c='r', label='a')\n",
    "ax2.scatter(both_emb[num:, 0], both_emb[num:, 1], c='b', label='b')\n",
    "\n",
    "ax2.legend()\n",
    "plt.show()"
   ]
  },
  {
   "cell_type": "code",
   "execution_count": null,
   "metadata": {},
   "outputs": [],
   "source": []
  }
 ],
 "metadata": {
  "kernelspec": {
   "display_name": "hyper-diffusion",
   "language": "python",
   "name": "python3"
  },
  "language_info": {
   "codemirror_mode": {
    "name": "ipython",
    "version": 3
   },
   "file_extension": ".py",
   "mimetype": "text/x-python",
   "name": "python",
   "nbconvert_exporter": "python",
   "pygments_lexer": "ipython3",
   "version": "3.7.16"
  }
 },
 "nbformat": 4,
 "nbformat_minor": 2
}
