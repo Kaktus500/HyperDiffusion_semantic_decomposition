{
 "cells": [
  {
   "cell_type": "code",
   "execution_count": 69,
   "metadata": {},
   "outputs": [],
   "source": [
    "import json\n",
    "import shutil\n",
    "import sys\n",
    "from pathlib import Path\n",
    "\n",
    "import numpy as np"
   ]
  },
  {
   "cell_type": "code",
   "execution_count": 70,
   "metadata": {},
   "outputs": [],
   "source": [
    "quality_check_metrics_file = Path(\"/home/pauldelseith/HyperDiffusion_semantic_decomposition/siren/experiment_scripts/logs/chair_complete_split_merged_ply/metrics_new.json\")\n",
    "with open(quality_check_metrics_file, \"r\") as f:\n",
    "    quality_check_metrics = json.load(f)"
   ]
  },
  {
   "cell_type": "code",
   "execution_count": 71,
   "metadata": {},
   "outputs": [],
   "source": [
    "filled_difference_fractions = []\n",
    "filled_difference_fractions_full = []\n",
    "for value in quality_check_metrics.values():\n",
    "    # filled_difference_fractions.append(value[\"split\"][\"filled_difference_fraction\"])\n",
    "    filled_difference_fractions_full.append(value[\"full\"][\"filled_difference_fraction\"])\n",
    "# filled_difference_fractions = np.array(filled_difference_fractions)\n",
    "filled_difference_fractions_full = np.array(filled_difference_fractions_full)"
   ]
  },
  {
   "cell_type": "code",
   "execution_count": null,
   "metadata": {},
   "outputs": [],
   "source": [
    "filled_difference_fractions.mean()\n",
    "np.percentile(filled_difference_fractions, [30, 50, 70])"
   ]
  },
  {
   "cell_type": "code",
   "execution_count": 72,
   "metadata": {},
   "outputs": [
    {
     "data": {
      "text/plain": [
       "array([0.04209126, 0.09009754, 0.20506246])"
      ]
     },
     "execution_count": 72,
     "metadata": {},
     "output_type": "execute_result"
    }
   ],
   "source": [
    "filled_difference_fractions_full.mean()\n",
    "np.percentile(filled_difference_fractions_full, [30, 50, 80])"
   ]
  },
  {
   "cell_type": "code",
   "execution_count": 73,
   "metadata": {},
   "outputs": [
    {
     "name": "stdout",
     "output_type": "stream",
     "text": [
      "Keeping 767 out of 1454 MLPs\n"
     ]
    }
   ],
   "source": [
    "# filter mlps according to filled_difference_fraction\n",
    "filled_fraction_threshold = 0.1\n",
    "mlps_to_keep = []\n",
    "for key, value in quality_check_metrics.items():\n",
    "    if value[\"full\"][\"filled_difference_fraction\"] < filled_fraction_threshold:\n",
    "        mlps_to_keep.append(key)\n",
    "print(f\"Keeping {len(mlps_to_keep)} out of {len(quality_check_metrics)} MLPs\")\n",
    "good_mlps_list_path = Path(\"/home/pauldelseith/HyperDiffusion_semantic_decomposition/siren/experiment_scripts/logs/chair_base_seat_sorted_classes/good_shapes.lst\")"
   ]
  },
  {
   "cell_type": "code",
   "execution_count": null,
   "metadata": {},
   "outputs": [],
   "source": [
    "with open(good_mlps_list_path, \"w\") as f:\n",
    "    f.write(\"\\n\".join(mlps_to_keep))"
   ]
  },
  {
   "cell_type": "code",
   "execution_count": null,
   "metadata": {},
   "outputs": [],
   "source": [
    "mlp_weights_path = Path(\"/home/pauldelseith/HyperDiffusion_semantic_decomposition/mlp_weights/chair_base_seat_sorted_classes\")\n",
    "train_logs_path = Path(\"/home/pauldelseith/HyperDiffusion_semantic_decomposition/siren/experiment_scripts/logs/chair_base_seat_sorted_classes\")\n",
    "for mlp_weight in train_logs_path.glob(\"*.pth\"):\n",
    "    shape_id = mlp_weight.stem.split(\"_\")[1]\n",
    "    if shape_id in mlps_to_keep:\n",
    "        shutil.copy(mlp_weight, mlp_weights_path / mlp_weight.name)"
   ]
  },
  {
   "cell_type": "code",
   "execution_count": 74,
   "metadata": {},
   "outputs": [],
   "source": [
    "mesh_dir = Path(\"/home/pauldelseith/HyperDiffusion_semantic_decomposition/data/partnet/sem_seg_meshes/Chair\")\n",
    "reduced_meshes_dir = Path(\"/home/pauldelseith/HyperDiffusion_semantic_decomposition/data/partnet/sem_seg_meshes/Chair_reduced_full\")\n",
    "reduced_meshes_dir.mkdir(exist_ok=True, parents=True)\n",
    "for mesh_file in mesh_dir.glob(\"*.obj\"):\n",
    "    if len(mesh_file.stem.split(\"_\")) < 3:\n",
    "        continue\n",
    "    shape_id = mesh_file.stem.split(\"_\")[0]\n",
    "    part_name = mesh_file.stem.split(\"_\")[2]\n",
    "    if shape_id in mlps_to_keep:\n",
    "        shutil.copy(mesh_file, reduced_meshes_dir / f\"{shape_id}_{part_name}.obj\")"
   ]
  },
  {
   "cell_type": "code",
   "execution_count": null,
   "metadata": {},
   "outputs": [],
   "source": [
    "meshes_path = Path(\"/home/pauldelseith/HyperDiffusion_semantic_decomposition/data/partnet/sem_seg_meshes/Chair\")\n",
    "meshes = []\n",
    "for mesh in meshes_path.glob(\"*.obj\"):\n",
    "    shape_id = mesh.stem.split(\"_\")[0]\n",
    "    if shape_id in mlps_to_keep:\n",
    "        meshes.append(mesh)\n",
    "with open(meshes_path / \"hyper_diff_meshes.lst\", \"w\") as f:\n",
    "    f.write(\"\\n\".join([mesh.name for mesh in meshes]))"
   ]
  },
  {
   "cell_type": "code",
   "execution_count": null,
   "metadata": {},
   "outputs": [],
   "source": [
    "mlps_trained_list_path = Path(\"/home/pauldelseith/HyperDiffusion_semantic_decomposition/siren/experiment_scripts/logs/chair_base_seat_sorted_classes/mlp_list.lst\")\n",
    "with open(mlps_trained_list_path, \"r\") as f:\n",
    "    mlps_trained_list = f.readlines()\n",
    "shapes_trained_list = []\n",
    "for line in mlps_trained_list:\n",
    "    shapes_trained_list.append(line.split(\"_\")[1]) \n",
    "with open(mlps_trained_list_path.parent / \"shapes_trained.lst\", \"w\") as f:\n",
    "    f.write(\"\\n\".join(shapes_trained_list))"
   ]
  }
 ],
 "metadata": {
  "kernelspec": {
   "display_name": "hyper-diffusion",
   "language": "python",
   "name": "python3"
  },
  "language_info": {
   "codemirror_mode": {
    "name": "ipython",
    "version": 3
   },
   "file_extension": ".py",
   "mimetype": "text/x-python",
   "name": "python",
   "nbconvert_exporter": "python",
   "pygments_lexer": "ipython3",
   "version": "3.7.16"
  }
 },
 "nbformat": 4,
 "nbformat_minor": 2
}
