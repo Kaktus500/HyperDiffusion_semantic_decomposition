{
 "cells": [
  {
   "cell_type": "markdown",
   "metadata": {},
   "source": [
    "# Generate results for eval section in paper"
   ]
  },
  {
   "cell_type": "code",
   "execution_count": null,
   "metadata": {},
   "outputs": [],
   "source": [
    "import json\n",
    "import shutil\n",
    "import sys\n",
    "from pathlib import Path\n",
    "import numpy as np\n",
    "sys.path.append(\"/home/pauldelseith/HyperDiffusion_semantic_decomposition\")\n",
    "import torch\n",
    "import trimesh\n",
    "import logging"
   ]
  },
  {
   "cell_type": "code",
   "execution_count": null,
   "metadata": {},
   "outputs": [],
   "source": [
    "# Check if CUDA is available\n",
    "device = \"cpu\"\n",
    "if torch.cuda.is_available():\n",
    "    print(\"GPU is available\")\n",
    "    device = torch.device(\"cuda\")"
   ]
  },
  {
   "cell_type": "code",
   "execution_count": null,
   "metadata": {},
   "outputs": [],
   "source": [
    "import evaluation_metrics_3d\n",
    "# Shape novelty\n",
    "n_points = 2048\n",
    "gen_meshes_dir = Path(\"/home/pauldelseith/HyperDiffusion_semantic_decomposition/gen_meshes/serene-fog\")\n",
    "ref_pcs_dir = Path(\"/home/pauldelseith/HyperDiffusion_semantic_decomposition/data/partnet/sem_seg_meshes/Chair_reduced_2048_pc\")\n",
    "train_shape_ids = list(np.genfromtxt(ref_pcs_dir / \"train_split.lst\", dtype=\"str\"))\n",
    "# load ground truth train pcs\n",
    "pcs = []\n",
    "for shape_id in train_shape_ids:\n",
    "    pc = np.load(ref_pcs_dir / f\"{shape_id}.npy\")\n",
    "    pc = torch.tensor(pc).float()\n",
    "    pcs.append(pc)\n",
    "ref_pcs = torch.stack(pcs)\n",
    "pcs = []\n",
    "gen_files = []\n",
    "for mesh_file in gen_meshes_dir.glob(\"*.obj\"):\n",
    "    mesh = trimesh.load(mesh_file)\n",
    "    if len(mesh.vertices) == 0:\n",
    "        continue\n",
    "    gen_files.append(mesh_file.name)\n",
    "    mesh = trimesh.Trimesh(vertices=mesh.vertices, faces=mesh.faces)\n",
    "    pc = torch.tensor(mesh.sample(n_points))\n",
    "    pc = pc.float()\n",
    "    pcs.append(pc)\n",
    "gen_pcs = torch.stack(pcs)\n",
    "batch_size = gen_pcs.shape[0]"
   ]
  },
  {
   "cell_type": "code",
   "execution_count": null,
   "metadata": {},
   "outputs": [],
   "source": [
    "k=3\n",
    "ref_pcs = ref_pcs.to(device)\n",
    "gen_pcs = gen_pcs.to(device)\n",
    "batch_size = torch.tensor(batch_size).to(device)\n",
    "\n",
    "M_rs_cd, M_rs_emd = evaluation_metrics_3d._pairwise_EMD_CD_(ref_pcs, gen_pcs, batch_size)\n",
    "M_rr_cd, M_rr_emd = evaluation_metrics_3d._pairwise_EMD_CD_(ref_pcs, ref_pcs, batch_size)\n",
    "M_ss_cd, M_ss_emd = evaluation_metrics_3d._pairwise_EMD_CD_(gen_pcs, gen_pcs, batch_size)\n",
    "\n",
    "# get k nearest neighbors\n",
    "val, idx = M_rs_cd.topk(k, dim=0, largest=False)"
   ]
  },
  {
   "cell_type": "code",
   "execution_count": null,
   "metadata": {},
   "outputs": [],
   "source": [
    "for i, mesh_name in enumerate(gen_files):\n",
    "    print(f\"Mesh {mesh_name}\")\n",
    "    print(f\"Nearest neighbors:\")\n",
    "    for j in range(k):\n",
    "        print(f\"  {mesh_name} to {train_shape_ids[idx[j, i]]} with distance {val[j, i]}\")\n",
    "    print(\"\")"
   ]
  }
 ],
 "metadata": {
  "kernelspec": {
   "display_name": "hyper-diffusion",
   "language": "python",
   "name": "python3"
  },
  "language_info": {
   "codemirror_mode": {
    "name": "ipython",
    "version": 3
   },
   "file_extension": ".py",
   "mimetype": "text/x-python",
   "name": "python",
   "nbconvert_exporter": "python",
   "pygments_lexer": "ipython3",
   "version": "3.7.16"
  }
 },
 "nbformat": 4,
 "nbformat_minor": 2
}
