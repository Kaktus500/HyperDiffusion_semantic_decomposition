{
 "cells": [
  {
   "cell_type": "code",
   "execution_count": 1,
   "metadata": {},
   "outputs": [],
   "source": [
    "import json\n",
    "import sys\n",
    "from pathlib import Path\n",
    "import numpy as np\n",
    "import h5py\n",
    "import trimesh\n",
    "import matplotlib.pyplot as plt\n",
    "notebook_dir = Path(\"/home/pauldelseith/HyperDiffusion_semantic_decomposition/notebooks\")"
   ]
  },
  {
   "cell_type": "code",
   "execution_count": null,
   "metadata": {},
   "outputs": [],
   "source": [
    "pc_path = Path(\"/home/pauldelseith/dataset_storage/partnet/ins_seg_h5/Chair/train-00.h5\")\n",
    "sem_pc_path = Path(\"/home/pauldelseith/dataset_storage/partnet/sem_seg_h5/Chair-1/train-00.h5\")\n",
    "anno_path = Path(\"/home/pauldelseith/dataset_storage/partnet/ins_seg_h5/Chair/train-00.json\")\n",
    "with h5py.File(pc_path, 'r') as f:\n",
    "    print(f.keys())\n",
    "    points = f[\"pts\"][:]\n",
    "    color = f[\"rgb\"][:]\n",
    "    print(color.shape)\n",
    "with h5py.File(sem_pc_path, 'r') as f:\n",
    "    print(f.keys())\n",
    "    points_sem = f[\"data\"][:]\n",
    "    color_sem = f[\"label_seg\"][:]\n",
    "    print(color.shape)\n",
    "with open(anno_path, 'r') as f:\n",
    "    anno = json.load(f)\n"
   ]
  },
  {
   "cell_type": "code",
   "execution_count": null,
   "metadata": {},
   "outputs": [],
   "source": [
    "color_sem"
   ]
  },
  {
   "cell_type": "code",
   "execution_count": null,
   "metadata": {},
   "outputs": [],
   "source": [
    "shape_id = \"39524\"\n",
    "for idx, shape in enumerate(anno):\n",
    "    if shape[\"anno_id\"] == shape_id:\n",
    "        print(idx)\n",
    "        break\n",
    "shape_color = color[idx]\n",
    "shape_points = points[idx]"
   ]
  },
  {
   "cell_type": "code",
   "execution_count": null,
   "metadata": {},
   "outputs": [],
   "source": [
    "shape_color"
   ]
  },
  {
   "cell_type": "code",
   "execution_count": null,
   "metadata": {},
   "outputs": [],
   "source": [
    "trimesh.points.PointCloud(shape_points, colors=shape_color).export(\n",
    "                notebook_dir / f\"{shape_id}_pc.obj\"\n",
    "            )"
   ]
  },
  {
   "cell_type": "code",
   "execution_count": null,
   "metadata": {},
   "outputs": [],
   "source": [
    "fig = plt.figure()\n",
    "ax = fig.add_subplot(111, projection='3d')\n",
    "\n",
    "# Scatter plot: 'c' for color, 'marker' for point shape\n",
    "scatter = ax.scatter(shape_points[:, 0], shape_points[:, 1], shape_points[:, 2], c=shape_color / 255, marker='o')\n",
    "\n",
    "# Labeling the axes\n",
    "ax.set_xlabel('X Coordinate')\n",
    "ax.set_ylabel('Y Coordinate')\n",
    "ax.set_zlabel('Z Coordinate')\n",
    "\n",
    "# Title of the plot\n",
    "ax.set_title('3D Scatter Plot')"
   ]
  },
  {
   "cell_type": "code",
   "execution_count": 2,
   "metadata": {},
   "outputs": [],
   "source": [
    "sys.path.append(\n",
    "    \"/home/pauldelseith/HyperDiffusion_semantic_decomposition\"\n",
    ")"
   ]
  },
  {
   "cell_type": "code",
   "execution_count": 3,
   "metadata": {},
   "outputs": [],
   "source": [
    "from helpers import HYPER_DIFF_DIR\n",
    "from siren.experiment_scripts.partnet_pc_generation import sample_occupancy_grid_from_mesh\n",
    "from data.partnet_semantic_mesh_merging import normalize_mesh"
   ]
  },
  {
   "cell_type": "code",
   "execution_count": null,
   "metadata": {},
   "outputs": [],
   "source": [
    "mesh = trimesh.load_mesh(\"/home/pauldelseith/HyperDiffusion_semantic_decomposition/notebooks/new-3.obj\")\n",
    "mesh = normalize_mesh(mesh)[0]"
   ]
  },
  {
   "cell_type": "code",
   "execution_count": null,
   "metadata": {},
   "outputs": [],
   "source": [
    "points, occupancies = sample_occupancy_grid_from_mesh(mesh, 100000, 100000)"
   ]
  },
  {
   "cell_type": "code",
   "execution_count": null,
   "metadata": {},
   "outputs": [],
   "source": [
    "colors = np.zeros((points.shape[0], 4), dtype=np.uint8)\n",
    "colors[:, 3] = 1\n",
    "colors[occupancies[:,0] == 1, 0] = 255\n",
    "colors[occupancies[:,0] == 0, 1] = 255"
   ]
  },
  {
   "cell_type": "code",
   "execution_count": null,
   "metadata": {},
   "outputs": [],
   "source": [
    "trimesh.points.PointCloud(points, colors=colors).export(\n",
    "                notebook_dir / f\"occupancy_grid_{shape_id}.obj\"\n",
    "            )"
   ]
  },
  {
   "cell_type": "code",
   "execution_count": null,
   "metadata": {},
   "outputs": [],
   "source": [
    "mesh.export(notebook_dir / \"new-3_normalized.obj\")"
   ]
  },
  {
   "cell_type": "code",
   "execution_count": null,
   "metadata": {},
   "outputs": [],
   "source": [
    "from hyperdiffusion import HyperDiffusion"
   ]
  }
 ],
 "metadata": {
  "kernelspec": {
   "display_name": "hyper-diffusion",
   "language": "python",
   "name": "python3"
  },
  "language_info": {
   "codemirror_mode": {
    "name": "ipython",
    "version": 3
   },
   "file_extension": ".py",
   "mimetype": "text/x-python",
   "name": "python",
   "nbconvert_exporter": "python",
   "pygments_lexer": "ipython3",
   "version": "3.7.16"
  }
 },
 "nbformat": 4,
 "nbformat_minor": 2
}
